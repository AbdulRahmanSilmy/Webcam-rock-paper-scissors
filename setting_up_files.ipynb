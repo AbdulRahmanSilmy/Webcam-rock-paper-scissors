{
 "cells": [
  {
   "cell_type": "markdown",
   "metadata": {},
   "source": [
    "Run the code below to create test and train folder from captured files"
   ]
  },
  {
   "cell_type": "code",
   "execution_count": 1,
   "metadata": {
    "scrolled": true
   },
   "outputs": [
    {
     "name": "stdout",
     "output_type": "stream",
     "text": [
      "removing existing destpath files...\n",
      "removing existing destpath files...\n",
      "created destination folders...\n",
      "transferred rock files to destination paths..\n",
      "transferred paper files to destination paths..\n",
      "transferred scissor files to destination paths..\n",
      "transferred none files to destination paths..\n",
      "done...\n"
     ]
    }
   ],
   "source": [
    "from train_test_split import train_test_split\n",
    "labels=['rock','paper','scissor','none']\n",
    "source_path=r\"C:\\Users\\abdul\\OneDrive\\Documents\\3rd year\\coop\\game\\rock-paper-scissors\\image_data\"\n",
    "destination_path=[r\"C:\\Users\\abdul\\OneDrive\\Documents\\3rd year\\coop\\game\\rock-paper-scissors\\train\",\n",
    "                  r\"C:\\Users\\abdul\\OneDrive\\Documents\\3rd year\\coop\\game\\rock-paper-scissors\\test\"]\n",
    "splitter=train_test_split(0.8,XML_present=False) #splits 80% of available images for training\n",
    "splitter.split(labels,source_path,destination_path)"
   ]
  }
 ],
 "metadata": {
  "kernelspec": {
   "display_name": "Python 3",
   "language": "python",
   "name": "python3"
  },
  "language_info": {
   "codemirror_mode": {
    "name": "ipython",
    "version": 3
   },
   "file_extension": ".py",
   "mimetype": "text/x-python",
   "name": "python",
   "nbconvert_exporter": "python",
   "pygments_lexer": "ipython3",
   "version": "3.8.5"
  }
 },
 "nbformat": 4,
 "nbformat_minor": 4
}
